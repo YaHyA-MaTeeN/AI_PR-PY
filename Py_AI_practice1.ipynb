{
  "nbformat": 4,
  "nbformat_minor": 0,
  "metadata": {
    "colab": {
      "provenance": [],
      "authorship_tag": "ABX9TyMZ79+HI+yfYhswMO1fYAue",
      "include_colab_link": true
    },
    "kernelspec": {
      "name": "python3",
      "display_name": "Python 3"
    },
    "language_info": {
      "name": "python"
    }
  },
  "cells": [
    {
      "cell_type": "markdown",
      "metadata": {
        "id": "view-in-github",
        "colab_type": "text"
      },
      "source": [
        "<a href=\"https://colab.research.google.com/github/YaHyA-MaTeeN/AI_PR-PY/blob/main/Py_AI_practice1.ipynb\" target=\"_parent\"><img src=\"https://colab.research.google.com/assets/colab-badge.svg\" alt=\"Open In Colab\"/></a>"
      ]
    },
    {
      "cell_type": "code",
      "execution_count": null,
      "metadata": {
        "id": "Dl13XcyLDixo"
      },
      "outputs": [],
      "source": [
        "def celsius_to_fahrenheit(celsius):\n",
        "    return (celsius * 9/5) + 32\n",
        "\n",
        "def fahrenheit_to_celsius(fahrenheit):\n",
        "    return (fahrenheit - 32) * 5/9\n",
        "\n",
        "def celsius_to_kelvin(celsius):\n",
        "    return celsius + 273.15\n",
        "\n",
        "def kelvin_to_celsius(kelvin):\n",
        "    return kelvin - 273.15\n",
        "\n",
        "def fahrenheit_to_kelvin(fahrenheit):\n",
        "    celsius = fahrenheit_to_celsius(fahrenheit)\n",
        "    return celsius_to_kelvin(celsius)\n",
        "\n",
        "def kelvin_to_fahrenheit(kelvin):\n",
        "    celsius = kelvin_to_celsius(kelvin)\n",
        "    return celsius_to_fahrenheit(celsius)\n",
        "\n",
        "def main():\n",
        "    print(\"Temperature Converter\")\n",
        "    print(\"1. Celsius to Fahrenheit\")\n",
        "    print(\"2. Fahrenheit to Celsius\")\n",
        "    print(\"3. Celsius to Kelvin\")\n",
        "    print(\"4. Kelvin to Celsius\")\n",
        "    print(\"5. Fahrenheit to Kelvin\")\n",
        "    print(\"6. Kelvin to Fahrenheit\")\n",
        "\n",
        "    choice = int(input(\"Choose an option (1-6): \"))\n",
        "    if choice == 1:\n",
        "        celsius = float(input(\"Enter temperature in Celsius: \"))\n",
        "        print(f\"{celsius}°C is {celsius_to_fahrenheit(celsius)}°F\")\n",
        "    elif choice == 2:\n",
        "        fahrenheit = float(input(\"Enter temperature in Fahrenheit: \"))\n",
        "        print(f\"{fahrenheit}°F is {fahrenheit_to_celsius(fahrenheit)}°C\")\n",
        "    elif choice == 3:\n",
        "        celsius = float(input(\"Enter temperature in Celsius: \"))\n",
        "        print(f\"{celsius}°C is {celsius_to_kelvin(celsius)}K\")\n",
        "    elif choice == 4:\n",
        "        kelvin = float(input(\"Enter temperature in Kelvin: \"))\n",
        "        print(f\"{kelvin}K is {kelvin_to_celsius(kelvin)}°C\")\n",
        "    elif choice == 5:\n",
        "        fahrenheit = float(input(\"Enter temperature in Fahrenheit: \"))\n",
        "        print(f\"{fahrenheit}°F is {fahrenheit_to_kelvin(fahrenheit)}K\")\n",
        "    elif choice == 6:\n",
        "        kelvin = float(input(\"Enter temperature in Kelvin: \"))\n",
        "        print(f\"{kelvin}K is {kelvin_to_fahrenheit(kelvin)}°F\")\n",
        "    else:\n",
        "        print(\"Invalid choice\")\n",
        "\n",
        "if __name__ == \"__main__\":\n",
        "    main()\n"
      ]
    }
  ]
}